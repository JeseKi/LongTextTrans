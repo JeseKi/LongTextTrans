{
 "cells": [
  {
   "cell_type": "markdown",
   "metadata": {},
   "source": [
    "# 翻译服务流式测试"
   ]
  },
  {
   "cell_type": "code",
   "execution_count": 95,
   "metadata": {},
   "outputs": [
    {
     "name": "stdout",
     "output_type": "stream",
     "text": [
      "{\"message\": true, \"data\": \"\"}\n",
      "{\"message\": true, \"data\": \"Hello\"}\n",
      "{\"message\": true, \"data\": \" everyone\"}\n",
      "{\"message\": true, \"data\": \",\"}\n",
      "{\"message\": true, \"data\": \" I\"}\n",
      "{\"message\": true, \"data\": \"'m\"}\n",
      "{\"message\": true, \"data\": \" talking\"}\n",
      "{\"message\": true, \"data\": \" about\"}\n",
      "{\"message\": true, \"data\": \" something\"}\n",
      "{\"message\": true, \"data\": \" interesting\"}\n",
      "{\"message\": true, \"data\": \" today\"}\n",
      "{\"message\": true, \"data\": \" that\"}\n",
      "{\"message\": true, \"data\": \" you\"}\n",
      "{\"message\": true, \"data\": \" all\"}\n",
      "{\"message\": true, \"data\": \" might\"}\n",
      "{\"message\": true, \"data\": \" want\"}\n",
      "{\"message\": true, \"data\": \" to\"}\n",
      "{\"message\": true, \"data\": \" see\"}\n",
      "{\"message\": true, \"data\": \".\"}\n"
     ]
    }
   ],
   "source": [
    "import base64\n",
    "import requests\n",
    "import json\n",
    "import time\n",
    "\n",
    "# 假设这是要发送的文本\n",
    "with open('./test.txt', 'r', encoding='utf-8') as f:\n",
    "    text_to_send = \"大家好啊,我是说的道理,今天给大家来点想看的东西\"\n",
    "\n",
    "# 将文本转换为 Base64 编码\n",
    "encoded_text = base64.b64encode(text_to_send.encode()).decode()\n",
    "\n",
    "# 构建请求体\n",
    "data = {\n",
    "  \"model\": \"gpt-3.5-turbo\",\n",
    "  \"text\": encoded_text,\n",
    "  \"source_lang\": \"zh\",\n",
    "  \"target_lang\": \"en\",\n",
    "  \"api_key\": [\n",
    "  ]\n",
    "}\n",
    "\n",
    "# 发送请求\n",
    "response = requests.post(\"http://127.0.0.1:8000/api/openai_translate\", json=data, stream=True)\n",
    "\n",
    "# 检查是否请求成功\n",
    "if response.status_code == 200:\n",
    "    # 处理流式响应\n",
    "    for line in response.iter_lines():\n",
    "        # 解码每行数据（如果是文本）\n",
    "        if line:\n",
    "            decoded_line = line.decode('utf-8')\n",
    "            print(decoded_line)\n",
    "else:\n",
    "    print(\"Error:\", response.status_code)\n"
   ]
  },
  {
   "cell_type": "code",
   "execution_count": 98,
   "metadata": {},
   "outputs": [
    {
     "name": "stdout",
     "output_type": "stream",
     "text": [
      "{\"message\": true, \"content\": \"Hello everyone\"}\n",
      "{\"message\": true, \"content\": \"Oh, I mean,\"}\n",
      "{\"message\": true, \"content\": \"Truth, today\"}\n",
      "{\"message\": true, \"content\": \"Have some for everyone.\"}\n",
      "{\"message\": true, \"content\": \"What you want to see.\"}\n"
     ]
    }
   ],
   "source": [
    "import base64\n",
    "import requests\n",
    "import json\n",
    "import time\n",
    "\n",
    "# 假设这是要发送的文本\n",
    "with open('./test.txt', 'r', encoding='utf-8') as f:\n",
    "    text_to_send = \"大家好啊,我是说的道理,今天给大家来点想看的东西\"\n",
    "\n",
    "# 将文本转换为 Base64 编码\n",
    "encoded_text = base64.b64encode(text_to_send.encode()).decode()\n",
    "\n",
    "# 构建请求体\n",
    "data = {\n",
    "  \"text\": encoded_text,\n",
    "  \"source_lang\": \"zh\",\n",
    "  \"target_lang\": \"en\",\n",
    "  \"ID\": \"\",\n",
    "  \"Key\": \"\"\n",
    "}\n",
    "\n",
    "# 发送请求\n",
    "response = requests.post(\"http://127.0.0.1:8000/api/tencent_translate\", json=data, stream=True)\n",
    "\n",
    "# 检查是否请求成功\n",
    "if response.status_code == 200:\n",
    "    # 处理流式响应\n",
    "    for line in response.iter_lines():\n",
    "        # 解码每行数据（如果是文本）\n",
    "        if line:\n",
    "            decoded_line = line.decode('utf-8')\n",
    "            print(decoded_line)\n",
    "else:\n",
    "    print(\"Error:\", response.status_code)\n"
   ]
  },
  {
   "cell_type": "markdown",
   "metadata": {},
   "source": [
    "# 流式响应测试"
   ]
  },
  {
   "cell_type": "code",
   "execution_count": 1,
   "metadata": {},
   "outputs": [
    {
     "name": "stdout",
     "output_type": "stream",
     "text": [
      "test\n",
      "test\n",
      "test\n",
      "test\n",
      "test\n",
      "test\n",
      "test\n",
      "test\n",
      "test\n",
      "test\n"
     ]
    }
   ],
   "source": [
    "import requests\n",
    "\n",
    "response = requests.get(\"http://127.0.0.1:8000/stream_test\", stream=True)\n",
    "\n",
    "if response.status_code == 200:\n",
    "    for line in response.iter_lines():\n",
    "        if line:\n",
    "            print(line.decode())\n",
    "else:\n",
    "    print(f\"Error: {response.status_code}\")\n"
   ]
  }
 ],
 "metadata": {
  "kernelspec": {
   "display_name": "venv",
   "language": "python",
   "name": "python3"
  },
  "language_info": {
   "codemirror_mode": {
    "name": "ipython",
    "version": 3
   },
   "file_extension": ".py",
   "mimetype": "text/x-python",
   "name": "python",
   "nbconvert_exporter": "python",
   "pygments_lexer": "ipython3",
   "version": "3.10.13"
  }
 },
 "nbformat": 4,
 "nbformat_minor": 2
}
